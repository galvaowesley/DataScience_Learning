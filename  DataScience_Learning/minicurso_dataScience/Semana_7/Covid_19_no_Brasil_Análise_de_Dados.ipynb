{
  "nbformat": 4,
  "nbformat_minor": 0,
  "metadata": {
    "colab": {
      "name": "Covid 19 no Brasil - Análise de Dados",
      "provenance": [],
      "collapsed_sections": [],
      "authorship_tag": "ABX9TyOi6kPUr2H4Zzd2upHEcUSP",
      "include_colab_link": true
    },
    "kernelspec": {
      "name": "ir",
      "display_name": "R"
    }
  },
  "cells": [
    {
      "cell_type": "markdown",
      "metadata": {
        "id": "view-in-github",
        "colab_type": "text"
      },
      "source": [
        "<a href=\"https://colab.research.google.com/github/galvaowesley/DataScience_Learning/blob/master/%20DataScience_Learning/minicurso_dataScience/Semana_7/Covid_19_no_Brasil_An%C3%A1lise_de_Dados.ipynb\" target=\"_parent\"><img src=\"https://colab.research.google.com/assets/colab-badge.svg\" alt=\"Open In Colab\"/></a>"
      ]
    },
    {
      "cell_type": "markdown",
      "metadata": {
        "id": "Og4bHF52nkQo",
        "colab_type": "text"
      },
      "source": [
        "Covid 19 no Brasil - Análise de Dados\n",
        "===\n",
        "\n"
      ]
    },
    {
      "cell_type": "code",
      "metadata": {
        "id": "6Z1qn_62hzFy",
        "colab_type": "code",
        "colab": {
          "base_uri": "https://localhost:8080/",
          "height": 242
        },
        "outputId": "ed5d9627-7cfb-4b47-f92e-b489d4d4ab60"
      },
      "source": [
        "install.packages('geobr')"
      ],
      "execution_count": 10,
      "outputs": [
        {
          "output_type": "stream",
          "text": [
            "Installing package into ‘/usr/local/lib/R/site-library’\n",
            "(as ‘lib’ is unspecified)\n",
            "\n",
            "also installing the dependencies ‘units’, ‘sf’\n",
            "\n",
            "\n",
            "Warning message in install.packages(\"geobr\"):\n",
            "“installation of package ‘units’ had non-zero exit status”\n",
            "Warning message in install.packages(\"geobr\"):\n",
            "“installation of package ‘sf’ had non-zero exit status”\n",
            "Warning message in install.packages(\"geobr\"):\n",
            "“installation of package ‘geobr’ had non-zero exit status”\n"
          ],
          "name": "stderr"
        }
      ]
    },
    {
      "cell_type": "code",
      "metadata": {
        "id": "Zq5TiHHDF-Sa",
        "colab_type": "code",
        "colab": {
          "base_uri": "https://localhost:8080/",
          "height": 487
        },
        "outputId": "ee30b4f2-252d-4e0e-ab0e-93c7d9eb3c87"
      },
      "source": [
        "# Instalação das bibliotecas\n",
        "install.packages(c('dplyr', 'tidyr', 'ggplot2', 'readxl', 'patchwork', 'scales', 'geobr')) "
      ],
      "execution_count": 3,
      "outputs": [
        {
          "output_type": "stream",
          "text": [
            "Installing packages into ‘/usr/local/lib/R/site-library’\n",
            "(as ‘lib’ is unspecified)\n",
            "\n",
            "also installing the dependencies ‘V8’, ‘rstan’, ‘shinystan’, ‘ipred’, ‘rstanarm’, ‘units’, ‘recipes’, ‘rsample’, ‘tidyposterior’, ‘tune’, ‘sf’\n",
            "\n",
            "\n",
            "Warning message in install.packages(c(\"dplyr\", \"tidyr\", \"ggplot2\", \"readxl\", \"patchwork\", :\n",
            "“installation of package ‘V8’ had non-zero exit status”\n",
            "Warning message in install.packages(c(\"dplyr\", \"tidyr\", \"ggplot2\", \"readxl\", \"patchwork\", :\n",
            "“installation of package ‘units’ had non-zero exit status”\n",
            "Warning message in install.packages(c(\"dplyr\", \"tidyr\", \"ggplot2\", \"readxl\", \"patchwork\", :\n",
            "“installation of package ‘sf’ had non-zero exit status”\n",
            "Warning message in install.packages(c(\"dplyr\", \"tidyr\", \"ggplot2\", \"readxl\", \"patchwork\", :\n",
            "“installation of package ‘rstan’ had non-zero exit status”\n",
            "Warning message in install.packages(c(\"dplyr\", \"tidyr\", \"ggplot2\", \"readxl\", \"patchwork\", :\n",
            "“installation of package ‘geobr’ had non-zero exit status”\n",
            "Warning message in install.packages(c(\"dplyr\", \"tidyr\", \"ggplot2\", \"readxl\", \"patchwork\", :\n",
            "“installation of package ‘shinystan’ had non-zero exit status”\n",
            "Warning message in install.packages(c(\"dplyr\", \"tidyr\", \"ggplot2\", \"readxl\", \"patchwork\", :\n",
            "“installation of package ‘rstanarm’ had non-zero exit status”\n",
            "Warning message in install.packages(c(\"dplyr\", \"tidyr\", \"ggplot2\", \"readxl\", \"patchwork\", :\n",
            "“installation of package ‘tidyposterior’ had non-zero exit status”\n",
            "Warning message in install.packages(c(\"dplyr\", \"tidyr\", \"ggplot2\", \"readxl\", \"patchwork\", :\n",
            "“installation of package ‘tidymodels’ had non-zero exit status”\n"
          ],
          "name": "stderr"
        }
      ]
    },
    {
      "cell_type": "code",
      "metadata": {
        "id": "gnNo502DFxRE",
        "colab_type": "code",
        "colab": {
          "base_uri": "https://localhost:8080/",
          "height": 138
        },
        "outputId": "2db70e73-c813-4380-ee00-ee5b26f67b20"
      },
      "source": [
        "# Carregamento das bibliotecas\n",
        "library(dplyr)     # Manipulação de dados \n",
        "library(tidyr)     # Manipulação de dados\n",
        "library(ggplot2)   # Criação de graficos\n",
        "library(readxl)    # Leitura de arquivos em Excel\n",
        "library(patchwork) # Subplots\n",
        "library(scales)    # trabalhar com escalas nos gráficos\n",
        "library(geobr)\n"
      ],
      "execution_count": 9,
      "outputs": [
        {
          "output_type": "error",
          "ename": "ERROR",
          "evalue": "ignored",
          "traceback": [
            "Error in library(geobr): there is no package called ‘geobr’\nTraceback:\n",
            "1. library(geobr)"
          ]
        }
      ]
    },
    {
      "cell_type": "code",
      "metadata": {
        "id": "XTNdrtW6Jb11",
        "colab_type": "code",
        "colab": {}
      },
      "source": [
        "# Download das bases de dados\n",
        "URL_painelCovidBR = 'https://uc1b6f88c4e4dbde53249178f201.dl.dropboxusercontent.com/cd/0/get/A7JeeT1xoSJIJmPUaqFO3pmLEUPy4q8yryCgXriNIsAHuAbOfDjeqalNS-EtVHpuUx2n1TzHGghYsCzJZy0fwrqqALKZUCelETI2CkgPTXc4OQGagbVZv5EMUMNc4CyqDUA/file?_download_id=923072298154885189043815034714538141743247724898921547780990685&_notify_domain=www.dropbox.com&dl=1'\n",
        "URL_coordenadasCidadesBR = 'https://www.kaggle.com/unanimad/corona-virus-brazil/download/jDAhqhD68XS3WelZ1trk%2Fversions%2FXRKjfLnfnoufmWwCedCA%2Ffiles%2Fbrazil_cities_coordinates.csv'\n",
        "\n",
        "caminho_painelCovid = '/content/HIST_PAINEL_COVIDBR_08jul2020.xlsx'\n",
        "caminho_coordenadas = '/contect/brazil_cities_coordinates.csv'\n",
        "\n",
        "download.file(URL_painelCovidBR, caminho_painelCovid)\n",
        "download.file(URL_coordenadasCidadesBR, caminho_coordenadas)"
      ],
      "execution_count": null,
      "outputs": []
    },
    {
      "cell_type": "code",
      "metadata": {
        "id": "ymkdD-rZbftc",
        "colab_type": "code",
        "colab": {}
      },
      "source": [
        "# Carregamento da base de dados Painel Covid BR - atualizada até 08/07\n",
        "covid_8jul = read_xlsx(caminho, \n",
        "                    col_types = c(\"text\",    # Regiao\n",
        "                    \"text\",    # Estado\n",
        "                    \"text\",    # Municipio\n",
        "                    \"text\",    # coduf\n",
        "                    \"numeric\", # codmun\n",
        "                    \"numeric\", # codRegiaoSaude\n",
        "                    \"text\",    # nomeRegiaoSaude\n",
        "                    \"date\",    # data\n",
        "                    \"numeric\", # semanaEpi\n",
        "                    \"text\",    # populacaoTCU2019\n",
        "                    \"numeric\", # casosAcumulado\n",
        "                    \"numeric\", # casosNovos\n",
        "                    \"numeric\", # obitosAcumulado\n",
        "                    \"numeric\", # obitosNovos\n",
        "                    \"numeric\", # Recuperadosnovos\n",
        "                    \"numeric\", # emAcompanhamentoNovos,\n",
        "                    \"numeric\"  # interior/metropolitana\n",
        "                    ))\n"
      ],
      "execution_count": 5,
      "outputs": []
    },
    {
      "cell_type": "code",
      "metadata": {
        "id": "ap9G9XDNcPIF",
        "colab_type": "code",
        "colab": {}
      },
      "source": [
        "# Características da base de dados\n",
        "dim(covid_"
      ],
      "execution_count": null,
      "outputs": []
    },
    {
      "cell_type": "code",
      "metadata": {
        "id": "jMAq6z2iWCoE",
        "colab_type": "code",
        "colab": {}
      },
      "source": [
        "# Tratamento da formatação da feature populacaoTCU2019\n",
        "covid_8jul$populacaoTCU2019[covid_8jul$populacaoTCU2019 == '10.139(17)'] = '10139'\n",
        "covid_8jul$populacaoTCU2019[covid_8jul$populacaoTCU2019 == '102.400(7)'] = '102400'\n",
        "covid_8jul$populacaoTCU2019[covid_8jul$populacaoTCU2019 == '12.123(8)']  = '12123'\n",
        "covid_8jul$populacaoTCU2019[covid_8jul$populacaoTCU2019 == '122.197(6)'] = '122197'\n",
        "covid_8jul$populacaoTCU2019[covid_8jul$populacaoTCU2019 == '13540 (18)'] = '13540'\n",
        "covid_8jul$populacaoTCU2019[covid_8jul$populacaoTCU2019 == '15.221(12)'] = '15221'\n",
        "covid_8jul$populacaoTCU2019[covid_8jul$populacaoTCU2019 == '15.895(10)'] = '15895'\n",
        "covid_8jul$populacaoTCU2019[covid_8jul$populacaoTCU2019 == '16.256(4)']  = '16256'\n",
        "covid_8jul$populacaoTCU2019[covid_8jul$populacaoTCU2019 == '16.979(15)'] = '16979'\n",
        "covid_8jul$populacaoTCU2019[covid_8jul$populacaoTCU2019 == '25.156(3)']  = '25156'\n",
        "covid_8jul$populacaoTCU2019[covid_8jul$populacaoTCU2019 == '32.105(2)']  = '32105'\n",
        "covid_8jul$populacaoTCU2019[covid_8jul$populacaoTCU2019 == '37.241(9)']  = '37241'\n",
        "covid_8jul$populacaoTCU2019[covid_8jul$populacaoTCU2019 == '43.223(16']  = '43223'\n",
        "covid_8jul$populacaoTCU2019[covid_8jul$populacaoTCU2019 == '60.585(11)'] = '60585'\n",
        "covid_8jul$populacaoTCU2019[covid_8jul$populacaoTCU2019 == '8.239(5)' ]  = '8239'\n",
        "covid_8jul$populacaoTCU2019[covid_8jul$populacaoTCU2019 == '9.224(13)']  = '9224'\n",
        "covid_8jul$populacaoTCU2019[covid_8jul$populacaoTCU2019 == '9.331(14)']  = '9331'\n",
        "covid_8jul$populacaoTCU2019[covid_8jul$populacaoTCU2019 == '']  = 'NA'\n",
        "\n",
        "#Converte a feature populacaoTCU2019 de texto para numérico\n",
        "covid_8jul$populacaoTCU2019 = as.numeric(covid_8jul$populacaoTCU2019)"
      ],
      "execution_count": 32,
      "outputs": []
    },
    {
      "cell_type": "code",
      "metadata": {
        "id": "7WHmG8uPz3iD",
        "colab_type": "code",
        "colab": {
          "base_uri": "https://localhost:8080/",
          "height": 1000
        },
        "outputId": "cf85ea41-2b05-4ca3-c9a2-c6c86d497d33"
      },
      "source": [
        "covid_8jul %>%\n",
        "filter(populacaoTCU2019 == 781) %>%\n",
        "select(estado, municipio, populacaoTCU2019)\n"
      ],
      "execution_count": 28,
      "outputs": [
        {
          "output_type": "display_data",
          "data": {
            "text/plain": [
              "    estado municipio        populacaoTCU2019\n",
              "1   MG     Serra da Saudade 781             \n",
              "2   MG     Serra da Saudade 781             \n",
              "3   MG     Serra da Saudade 781             \n",
              "4   MG     Serra da Saudade 781             \n",
              "5   MG     Serra da Saudade 781             \n",
              "6   MG     Serra da Saudade 781             \n",
              "7   MG     Serra da Saudade 781             \n",
              "8   MG     Serra da Saudade 781             \n",
              "9   MG     Serra da Saudade 781             \n",
              "10  MG     Serra da Saudade 781             \n",
              "11  MG     Serra da Saudade 781             \n",
              "12  MG     Serra da Saudade 781             \n",
              "13  MG     Serra da Saudade 781             \n",
              "14  MG     Serra da Saudade 781             \n",
              "15  MG     Serra da Saudade 781             \n",
              "16  MG     Serra da Saudade 781             \n",
              "17  MG     Serra da Saudade 781             \n",
              "18  MG     Serra da Saudade 781             \n",
              "19  MG     Serra da Saudade 781             \n",
              "20  MG     Serra da Saudade 781             \n",
              "21  MG     Serra da Saudade 781             \n",
              "22  MG     Serra da Saudade 781             \n",
              "23  MG     Serra da Saudade 781             \n",
              "24  MG     Serra da Saudade 781             \n",
              "25  MG     Serra da Saudade 781             \n",
              "26  MG     Serra da Saudade 781             \n",
              "27  MG     Serra da Saudade 781             \n",
              "28  MG     Serra da Saudade 781             \n",
              "29  MG     Serra da Saudade 781             \n",
              "30  MG     Serra da Saudade 781             \n",
              "⋮   ⋮      ⋮                ⋮               \n",
              "75  MG     Serra da Saudade 781             \n",
              "76  MG     Serra da Saudade 781             \n",
              "77  MG     Serra da Saudade 781             \n",
              "78  MG     Serra da Saudade 781             \n",
              "79  MG     Serra da Saudade 781             \n",
              "80  MG     Serra da Saudade 781             \n",
              "81  MG     Serra da Saudade 781             \n",
              "82  MG     Serra da Saudade 781             \n",
              "83  MG     Serra da Saudade 781             \n",
              "84  MG     Serra da Saudade 781             \n",
              "85  MG     Serra da Saudade 781             \n",
              "86  MG     Serra da Saudade 781             \n",
              "87  MG     Serra da Saudade 781             \n",
              "88  MG     Serra da Saudade 781             \n",
              "89  MG     Serra da Saudade 781             \n",
              "90  MG     Serra da Saudade 781             \n",
              "91  MG     Serra da Saudade 781             \n",
              "92  MG     Serra da Saudade 781             \n",
              "93  MG     Serra da Saudade 781             \n",
              "94  MG     Serra da Saudade 781             \n",
              "95  MG     Serra da Saudade 781             \n",
              "96  MG     Serra da Saudade 781             \n",
              "97  MG     Serra da Saudade 781             \n",
              "98  MG     Serra da Saudade 781             \n",
              "99  MG     Serra da Saudade 781             \n",
              "100 MG     Serra da Saudade 781             \n",
              "101 MG     Serra da Saudade 781             \n",
              "102 MG     Serra da Saudade 781             \n",
              "103 MG     Serra da Saudade 781             \n",
              "104 MG     Serra da Saudade 781             "
            ],
            "text/latex": "A tibble: 104 × 3\n\\begin{tabular}{lll}\n estado & municipio & populacaoTCU2019\\\\\n <chr> & <chr> & <dbl>\\\\\n\\hline\n\t MG & Serra da Saudade & 781\\\\\n\t MG & Serra da Saudade & 781\\\\\n\t MG & Serra da Saudade & 781\\\\\n\t MG & Serra da Saudade & 781\\\\\n\t MG & Serra da Saudade & 781\\\\\n\t MG & Serra da Saudade & 781\\\\\n\t MG & Serra da Saudade & 781\\\\\n\t MG & Serra da Saudade & 781\\\\\n\t MG & Serra da Saudade & 781\\\\\n\t MG & Serra da Saudade & 781\\\\\n\t MG & Serra da Saudade & 781\\\\\n\t MG & Serra da Saudade & 781\\\\\n\t MG & Serra da Saudade & 781\\\\\n\t MG & Serra da Saudade & 781\\\\\n\t MG & Serra da Saudade & 781\\\\\n\t MG & Serra da Saudade & 781\\\\\n\t MG & Serra da Saudade & 781\\\\\n\t MG & Serra da Saudade & 781\\\\\n\t MG & Serra da Saudade & 781\\\\\n\t MG & Serra da Saudade & 781\\\\\n\t MG & Serra da Saudade & 781\\\\\n\t MG & Serra da Saudade & 781\\\\\n\t MG & Serra da Saudade & 781\\\\\n\t MG & Serra da Saudade & 781\\\\\n\t MG & Serra da Saudade & 781\\\\\n\t MG & Serra da Saudade & 781\\\\\n\t MG & Serra da Saudade & 781\\\\\n\t MG & Serra da Saudade & 781\\\\\n\t MG & Serra da Saudade & 781\\\\\n\t MG & Serra da Saudade & 781\\\\\n\t ⋮ & ⋮ & ⋮\\\\\n\t MG & Serra da Saudade & 781\\\\\n\t MG & Serra da Saudade & 781\\\\\n\t MG & Serra da Saudade & 781\\\\\n\t MG & Serra da Saudade & 781\\\\\n\t MG & Serra da Saudade & 781\\\\\n\t MG & Serra da Saudade & 781\\\\\n\t MG & Serra da Saudade & 781\\\\\n\t MG & Serra da Saudade & 781\\\\\n\t MG & Serra da Saudade & 781\\\\\n\t MG & Serra da Saudade & 781\\\\\n\t MG & Serra da Saudade & 781\\\\\n\t MG & Serra da Saudade & 781\\\\\n\t MG & Serra da Saudade & 781\\\\\n\t MG & Serra da Saudade & 781\\\\\n\t MG & Serra da Saudade & 781\\\\\n\t MG & Serra da Saudade & 781\\\\\n\t MG & Serra da Saudade & 781\\\\\n\t MG & Serra da Saudade & 781\\\\\n\t MG & Serra da Saudade & 781\\\\\n\t MG & Serra da Saudade & 781\\\\\n\t MG & Serra da Saudade & 781\\\\\n\t MG & Serra da Saudade & 781\\\\\n\t MG & Serra da Saudade & 781\\\\\n\t MG & Serra da Saudade & 781\\\\\n\t MG & Serra da Saudade & 781\\\\\n\t MG & Serra da Saudade & 781\\\\\n\t MG & Serra da Saudade & 781\\\\\n\t MG & Serra da Saudade & 781\\\\\n\t MG & Serra da Saudade & 781\\\\\n\t MG & Serra da Saudade & 781\\\\\n\\end{tabular}\n",
            "text/markdown": "\nA tibble: 104 × 3\n\n| estado &lt;chr&gt; | municipio &lt;chr&gt; | populacaoTCU2019 &lt;dbl&gt; |\n|---|---|---|\n| MG | Serra da Saudade | 781 |\n| MG | Serra da Saudade | 781 |\n| MG | Serra da Saudade | 781 |\n| MG | Serra da Saudade | 781 |\n| MG | Serra da Saudade | 781 |\n| MG | Serra da Saudade | 781 |\n| MG | Serra da Saudade | 781 |\n| MG | Serra da Saudade | 781 |\n| MG | Serra da Saudade | 781 |\n| MG | Serra da Saudade | 781 |\n| MG | Serra da Saudade | 781 |\n| MG | Serra da Saudade | 781 |\n| MG | Serra da Saudade | 781 |\n| MG | Serra da Saudade | 781 |\n| MG | Serra da Saudade | 781 |\n| MG | Serra da Saudade | 781 |\n| MG | Serra da Saudade | 781 |\n| MG | Serra da Saudade | 781 |\n| MG | Serra da Saudade | 781 |\n| MG | Serra da Saudade | 781 |\n| MG | Serra da Saudade | 781 |\n| MG | Serra da Saudade | 781 |\n| MG | Serra da Saudade | 781 |\n| MG | Serra da Saudade | 781 |\n| MG | Serra da Saudade | 781 |\n| MG | Serra da Saudade | 781 |\n| MG | Serra da Saudade | 781 |\n| MG | Serra da Saudade | 781 |\n| MG | Serra da Saudade | 781 |\n| MG | Serra da Saudade | 781 |\n| ⋮ | ⋮ | ⋮ |\n| MG | Serra da Saudade | 781 |\n| MG | Serra da Saudade | 781 |\n| MG | Serra da Saudade | 781 |\n| MG | Serra da Saudade | 781 |\n| MG | Serra da Saudade | 781 |\n| MG | Serra da Saudade | 781 |\n| MG | Serra da Saudade | 781 |\n| MG | Serra da Saudade | 781 |\n| MG | Serra da Saudade | 781 |\n| MG | Serra da Saudade | 781 |\n| MG | Serra da Saudade | 781 |\n| MG | Serra da Saudade | 781 |\n| MG | Serra da Saudade | 781 |\n| MG | Serra da Saudade | 781 |\n| MG | Serra da Saudade | 781 |\n| MG | Serra da Saudade | 781 |\n| MG | Serra da Saudade | 781 |\n| MG | Serra da Saudade | 781 |\n| MG | Serra da Saudade | 781 |\n| MG | Serra da Saudade | 781 |\n| MG | Serra da Saudade | 781 |\n| MG | Serra da Saudade | 781 |\n| MG | Serra da Saudade | 781 |\n| MG | Serra da Saudade | 781 |\n| MG | Serra da Saudade | 781 |\n| MG | Serra da Saudade | 781 |\n| MG | Serra da Saudade | 781 |\n| MG | Serra da Saudade | 781 |\n| MG | Serra da Saudade | 781 |\n| MG | Serra da Saudade | 781 |\n\n",
            "text/html": [
              "<table>\n",
              "<caption>A tibble: 104 × 3</caption>\n",
              "<thead>\n",
              "\t<tr><th scope=col>estado</th><th scope=col>municipio</th><th scope=col>populacaoTCU2019</th></tr>\n",
              "\t<tr><th scope=col>&lt;chr&gt;</th><th scope=col>&lt;chr&gt;</th><th scope=col>&lt;dbl&gt;</th></tr>\n",
              "</thead>\n",
              "<tbody>\n",
              "\t<tr><td>MG</td><td>Serra da Saudade</td><td>781</td></tr>\n",
              "\t<tr><td>MG</td><td>Serra da Saudade</td><td>781</td></tr>\n",
              "\t<tr><td>MG</td><td>Serra da Saudade</td><td>781</td></tr>\n",
              "\t<tr><td>MG</td><td>Serra da Saudade</td><td>781</td></tr>\n",
              "\t<tr><td>MG</td><td>Serra da Saudade</td><td>781</td></tr>\n",
              "\t<tr><td>MG</td><td>Serra da Saudade</td><td>781</td></tr>\n",
              "\t<tr><td>MG</td><td>Serra da Saudade</td><td>781</td></tr>\n",
              "\t<tr><td>MG</td><td>Serra da Saudade</td><td>781</td></tr>\n",
              "\t<tr><td>MG</td><td>Serra da Saudade</td><td>781</td></tr>\n",
              "\t<tr><td>MG</td><td>Serra da Saudade</td><td>781</td></tr>\n",
              "\t<tr><td>MG</td><td>Serra da Saudade</td><td>781</td></tr>\n",
              "\t<tr><td>MG</td><td>Serra da Saudade</td><td>781</td></tr>\n",
              "\t<tr><td>MG</td><td>Serra da Saudade</td><td>781</td></tr>\n",
              "\t<tr><td>MG</td><td>Serra da Saudade</td><td>781</td></tr>\n",
              "\t<tr><td>MG</td><td>Serra da Saudade</td><td>781</td></tr>\n",
              "\t<tr><td>MG</td><td>Serra da Saudade</td><td>781</td></tr>\n",
              "\t<tr><td>MG</td><td>Serra da Saudade</td><td>781</td></tr>\n",
              "\t<tr><td>MG</td><td>Serra da Saudade</td><td>781</td></tr>\n",
              "\t<tr><td>MG</td><td>Serra da Saudade</td><td>781</td></tr>\n",
              "\t<tr><td>MG</td><td>Serra da Saudade</td><td>781</td></tr>\n",
              "\t<tr><td>MG</td><td>Serra da Saudade</td><td>781</td></tr>\n",
              "\t<tr><td>MG</td><td>Serra da Saudade</td><td>781</td></tr>\n",
              "\t<tr><td>MG</td><td>Serra da Saudade</td><td>781</td></tr>\n",
              "\t<tr><td>MG</td><td>Serra da Saudade</td><td>781</td></tr>\n",
              "\t<tr><td>MG</td><td>Serra da Saudade</td><td>781</td></tr>\n",
              "\t<tr><td>MG</td><td>Serra da Saudade</td><td>781</td></tr>\n",
              "\t<tr><td>MG</td><td>Serra da Saudade</td><td>781</td></tr>\n",
              "\t<tr><td>MG</td><td>Serra da Saudade</td><td>781</td></tr>\n",
              "\t<tr><td>MG</td><td>Serra da Saudade</td><td>781</td></tr>\n",
              "\t<tr><td>MG</td><td>Serra da Saudade</td><td>781</td></tr>\n",
              "\t<tr><td>⋮</td><td>⋮</td><td>⋮</td></tr>\n",
              "\t<tr><td>MG</td><td>Serra da Saudade</td><td>781</td></tr>\n",
              "\t<tr><td>MG</td><td>Serra da Saudade</td><td>781</td></tr>\n",
              "\t<tr><td>MG</td><td>Serra da Saudade</td><td>781</td></tr>\n",
              "\t<tr><td>MG</td><td>Serra da Saudade</td><td>781</td></tr>\n",
              "\t<tr><td>MG</td><td>Serra da Saudade</td><td>781</td></tr>\n",
              "\t<tr><td>MG</td><td>Serra da Saudade</td><td>781</td></tr>\n",
              "\t<tr><td>MG</td><td>Serra da Saudade</td><td>781</td></tr>\n",
              "\t<tr><td>MG</td><td>Serra da Saudade</td><td>781</td></tr>\n",
              "\t<tr><td>MG</td><td>Serra da Saudade</td><td>781</td></tr>\n",
              "\t<tr><td>MG</td><td>Serra da Saudade</td><td>781</td></tr>\n",
              "\t<tr><td>MG</td><td>Serra da Saudade</td><td>781</td></tr>\n",
              "\t<tr><td>MG</td><td>Serra da Saudade</td><td>781</td></tr>\n",
              "\t<tr><td>MG</td><td>Serra da Saudade</td><td>781</td></tr>\n",
              "\t<tr><td>MG</td><td>Serra da Saudade</td><td>781</td></tr>\n",
              "\t<tr><td>MG</td><td>Serra da Saudade</td><td>781</td></tr>\n",
              "\t<tr><td>MG</td><td>Serra da Saudade</td><td>781</td></tr>\n",
              "\t<tr><td>MG</td><td>Serra da Saudade</td><td>781</td></tr>\n",
              "\t<tr><td>MG</td><td>Serra da Saudade</td><td>781</td></tr>\n",
              "\t<tr><td>MG</td><td>Serra da Saudade</td><td>781</td></tr>\n",
              "\t<tr><td>MG</td><td>Serra da Saudade</td><td>781</td></tr>\n",
              "\t<tr><td>MG</td><td>Serra da Saudade</td><td>781</td></tr>\n",
              "\t<tr><td>MG</td><td>Serra da Saudade</td><td>781</td></tr>\n",
              "\t<tr><td>MG</td><td>Serra da Saudade</td><td>781</td></tr>\n",
              "\t<tr><td>MG</td><td>Serra da Saudade</td><td>781</td></tr>\n",
              "\t<tr><td>MG</td><td>Serra da Saudade</td><td>781</td></tr>\n",
              "\t<tr><td>MG</td><td>Serra da Saudade</td><td>781</td></tr>\n",
              "\t<tr><td>MG</td><td>Serra da Saudade</td><td>781</td></tr>\n",
              "\t<tr><td>MG</td><td>Serra da Saudade</td><td>781</td></tr>\n",
              "\t<tr><td>MG</td><td>Serra da Saudade</td><td>781</td></tr>\n",
              "\t<tr><td>MG</td><td>Serra da Saudade</td><td>781</td></tr>\n",
              "</tbody>\n",
              "</table>\n"
            ]
          },
          "metadata": {
            "tags": []
          }
        }
      ]
    },
    {
      "cell_type": "code",
      "metadata": {
        "id": "tsZ1DBOT6XiL",
        "colab_type": "code",
        "colab": {
          "base_uri": "https://localhost:8080/",
          "height": 227
        },
        "outputId": "223950f0-b595-4274-ca57-eabe682689f7"
      },
      "source": [
        "coronaregiao=filter(covid_8jul, !is.na(covid_8jul$estado)& is.na(covid_8jul$municipio))\n",
        "head(coronaregiao)"
      ],
      "execution_count": 25,
      "outputs": [
        {
          "output_type": "display_data",
          "data": {
            "text/plain": [
              "  regiao estado municipio coduf codmun codRegiaoSaude nomeRegiaoSaude\n",
              "1 Norte  RO     NA        11    NA     NA             NA             \n",
              "2 Norte  RO     NA        11    NA     NA             NA             \n",
              "3 Norte  RO     NA        11    NA     NA             NA             \n",
              "4 Norte  RO     NA        11    NA     NA             NA             \n",
              "5 Norte  RO     NA        11    NA     NA             NA             \n",
              "6 Norte  RO     NA        11    NA     NA             NA             \n",
              "  data       semanaEpi populacaoTCU2019 casosAcumulado casosNovos\n",
              "1 2020-02-25  9        1777225          0              0         \n",
              "2 2020-02-26  9        1777225          0              0         \n",
              "3 2020-02-27  9        1777225          0              0         \n",
              "4 2020-02-28  9        1777225          0              0         \n",
              "5 2020-02-29  9        1777225          0              0         \n",
              "6 2020-03-01 10        1777225          0              0         \n",
              "  obitosAcumulado obitosNovos Recuperadosnovos emAcompanhamentoNovos\n",
              "1 0               0           NA               NA                   \n",
              "2 0               0           NA               NA                   \n",
              "3 0               0           NA               NA                   \n",
              "4 0               0           NA               NA                   \n",
              "5 0               0           NA               NA                   \n",
              "6 0               0           NA               NA                   \n",
              "  interior/metropolitana\n",
              "1 NA                    \n",
              "2 NA                    \n",
              "3 NA                    \n",
              "4 NA                    \n",
              "5 NA                    \n",
              "6 NA                    "
            ],
            "text/latex": "A tibble: 6 × 17\n\\begin{tabular}{lllllllllllllllll}\n regiao & estado & municipio & coduf & codmun & codRegiaoSaude & nomeRegiaoSaude & data & semanaEpi & populacaoTCU2019 & casosAcumulado & casosNovos & obitosAcumulado & obitosNovos & Recuperadosnovos & emAcompanhamentoNovos & interior/metropolitana\\\\\n <chr> & <chr> & <chr> & <chr> & <dbl> & <dbl> & <chr> & <dttm> & <dbl> & <dbl> & <dbl> & <dbl> & <dbl> & <dbl> & <dbl> & <dbl> & <dbl>\\\\\n\\hline\n\t Norte & RO & NA & 11 & NA & NA & NA & 2020-02-25 &  9 & 1777225 & 0 & 0 & 0 & 0 & NA & NA & NA\\\\\n\t Norte & RO & NA & 11 & NA & NA & NA & 2020-02-26 &  9 & 1777225 & 0 & 0 & 0 & 0 & NA & NA & NA\\\\\n\t Norte & RO & NA & 11 & NA & NA & NA & 2020-02-27 &  9 & 1777225 & 0 & 0 & 0 & 0 & NA & NA & NA\\\\\n\t Norte & RO & NA & 11 & NA & NA & NA & 2020-02-28 &  9 & 1777225 & 0 & 0 & 0 & 0 & NA & NA & NA\\\\\n\t Norte & RO & NA & 11 & NA & NA & NA & 2020-02-29 &  9 & 1777225 & 0 & 0 & 0 & 0 & NA & NA & NA\\\\\n\t Norte & RO & NA & 11 & NA & NA & NA & 2020-03-01 & 10 & 1777225 & 0 & 0 & 0 & 0 & NA & NA & NA\\\\\n\\end{tabular}\n",
            "text/markdown": "\nA tibble: 6 × 17\n\n| regiao &lt;chr&gt; | estado &lt;chr&gt; | municipio &lt;chr&gt; | coduf &lt;chr&gt; | codmun &lt;dbl&gt; | codRegiaoSaude &lt;dbl&gt; | nomeRegiaoSaude &lt;chr&gt; | data &lt;dttm&gt; | semanaEpi &lt;dbl&gt; | populacaoTCU2019 &lt;dbl&gt; | casosAcumulado &lt;dbl&gt; | casosNovos &lt;dbl&gt; | obitosAcumulado &lt;dbl&gt; | obitosNovos &lt;dbl&gt; | Recuperadosnovos &lt;dbl&gt; | emAcompanhamentoNovos &lt;dbl&gt; | interior/metropolitana &lt;dbl&gt; |\n|---|---|---|---|---|---|---|---|---|---|---|---|---|---|---|---|---|\n| Norte | RO | NA | 11 | NA | NA | NA | 2020-02-25 |  9 | 1777225 | 0 | 0 | 0 | 0 | NA | NA | NA |\n| Norte | RO | NA | 11 | NA | NA | NA | 2020-02-26 |  9 | 1777225 | 0 | 0 | 0 | 0 | NA | NA | NA |\n| Norte | RO | NA | 11 | NA | NA | NA | 2020-02-27 |  9 | 1777225 | 0 | 0 | 0 | 0 | NA | NA | NA |\n| Norte | RO | NA | 11 | NA | NA | NA | 2020-02-28 |  9 | 1777225 | 0 | 0 | 0 | 0 | NA | NA | NA |\n| Norte | RO | NA | 11 | NA | NA | NA | 2020-02-29 |  9 | 1777225 | 0 | 0 | 0 | 0 | NA | NA | NA |\n| Norte | RO | NA | 11 | NA | NA | NA | 2020-03-01 | 10 | 1777225 | 0 | 0 | 0 | 0 | NA | NA | NA |\n\n",
            "text/html": [
              "<table>\n",
              "<caption>A tibble: 6 × 17</caption>\n",
              "<thead>\n",
              "\t<tr><th scope=col>regiao</th><th scope=col>estado</th><th scope=col>municipio</th><th scope=col>coduf</th><th scope=col>codmun</th><th scope=col>codRegiaoSaude</th><th scope=col>nomeRegiaoSaude</th><th scope=col>data</th><th scope=col>semanaEpi</th><th scope=col>populacaoTCU2019</th><th scope=col>casosAcumulado</th><th scope=col>casosNovos</th><th scope=col>obitosAcumulado</th><th scope=col>obitosNovos</th><th scope=col>Recuperadosnovos</th><th scope=col>emAcompanhamentoNovos</th><th scope=col>interior/metropolitana</th></tr>\n",
              "\t<tr><th scope=col>&lt;chr&gt;</th><th scope=col>&lt;chr&gt;</th><th scope=col>&lt;chr&gt;</th><th scope=col>&lt;chr&gt;</th><th scope=col>&lt;dbl&gt;</th><th scope=col>&lt;dbl&gt;</th><th scope=col>&lt;chr&gt;</th><th scope=col>&lt;dttm&gt;</th><th scope=col>&lt;dbl&gt;</th><th scope=col>&lt;dbl&gt;</th><th scope=col>&lt;dbl&gt;</th><th scope=col>&lt;dbl&gt;</th><th scope=col>&lt;dbl&gt;</th><th scope=col>&lt;dbl&gt;</th><th scope=col>&lt;dbl&gt;</th><th scope=col>&lt;dbl&gt;</th><th scope=col>&lt;dbl&gt;</th></tr>\n",
              "</thead>\n",
              "<tbody>\n",
              "\t<tr><td>Norte</td><td>RO</td><td>NA</td><td>11</td><td>NA</td><td>NA</td><td>NA</td><td>2020-02-25</td><td> 9</td><td>1777225</td><td>0</td><td>0</td><td>0</td><td>0</td><td>NA</td><td>NA</td><td>NA</td></tr>\n",
              "\t<tr><td>Norte</td><td>RO</td><td>NA</td><td>11</td><td>NA</td><td>NA</td><td>NA</td><td>2020-02-26</td><td> 9</td><td>1777225</td><td>0</td><td>0</td><td>0</td><td>0</td><td>NA</td><td>NA</td><td>NA</td></tr>\n",
              "\t<tr><td>Norte</td><td>RO</td><td>NA</td><td>11</td><td>NA</td><td>NA</td><td>NA</td><td>2020-02-27</td><td> 9</td><td>1777225</td><td>0</td><td>0</td><td>0</td><td>0</td><td>NA</td><td>NA</td><td>NA</td></tr>\n",
              "\t<tr><td>Norte</td><td>RO</td><td>NA</td><td>11</td><td>NA</td><td>NA</td><td>NA</td><td>2020-02-28</td><td> 9</td><td>1777225</td><td>0</td><td>0</td><td>0</td><td>0</td><td>NA</td><td>NA</td><td>NA</td></tr>\n",
              "\t<tr><td>Norte</td><td>RO</td><td>NA</td><td>11</td><td>NA</td><td>NA</td><td>NA</td><td>2020-02-29</td><td> 9</td><td>1777225</td><td>0</td><td>0</td><td>0</td><td>0</td><td>NA</td><td>NA</td><td>NA</td></tr>\n",
              "\t<tr><td>Norte</td><td>RO</td><td>NA</td><td>11</td><td>NA</td><td>NA</td><td>NA</td><td>2020-03-01</td><td>10</td><td>1777225</td><td>0</td><td>0</td><td>0</td><td>0</td><td>NA</td><td>NA</td><td>NA</td></tr>\n",
              "</tbody>\n",
              "</table>\n"
            ]
          },
          "metadata": {
            "tags": []
          }
        }
      ]
    },
    {
      "cell_type": "code",
      "metadata": {
        "id": "QIG1ZFIf67XJ",
        "colab_type": "code",
        "colab": {
          "base_uri": "https://localhost:8080/",
          "height": 223
        },
        "outputId": "aee9a2ab-bbda-4b3a-a049-7a7115c0f70a"
      },
      "source": [
        "mortesPorRegiao = coronaregiao %>%\n",
        "  select(regiao, obitosNovos) %>%\n",
        "  group_by(regiao) %>%\n",
        "  summarise( 'total' = sum(obitosNovos))\n",
        "mortesPorRegiao"
      ],
      "execution_count": 24,
      "outputs": [
        {
          "output_type": "stream",
          "text": [
            "`summarise()` ungrouping output (override with `.groups` argument)\n",
            "\n"
          ],
          "name": "stderr"
        },
        {
          "output_type": "display_data",
          "data": {
            "text/plain": [
              "  regiao       total\n",
              "1 Centro-Oeste  2550\n",
              "2 Nordeste     22087\n",
              "3 Norte        10207\n",
              "4 Sudeste      31050\n",
              "5 Sul           2169"
            ],
            "text/latex": "A tibble: 5 × 2\n\\begin{tabular}{ll}\n regiao & total\\\\\n <chr> & <dbl>\\\\\n\\hline\n\t Centro-Oeste &  2550\\\\\n\t Nordeste     & 22087\\\\\n\t Norte        & 10207\\\\\n\t Sudeste      & 31050\\\\\n\t Sul          &  2169\\\\\n\\end{tabular}\n",
            "text/markdown": "\nA tibble: 5 × 2\n\n| regiao &lt;chr&gt; | total &lt;dbl&gt; |\n|---|---|\n| Centro-Oeste |  2550 |\n| Nordeste     | 22087 |\n| Norte        | 10207 |\n| Sudeste      | 31050 |\n| Sul          |  2169 |\n\n",
            "text/html": [
              "<table>\n",
              "<caption>A tibble: 5 × 2</caption>\n",
              "<thead>\n",
              "\t<tr><th scope=col>regiao</th><th scope=col>total</th></tr>\n",
              "\t<tr><th scope=col>&lt;chr&gt;</th><th scope=col>&lt;dbl&gt;</th></tr>\n",
              "</thead>\n",
              "<tbody>\n",
              "\t<tr><td>Centro-Oeste</td><td> 2550</td></tr>\n",
              "\t<tr><td>Nordeste    </td><td>22087</td></tr>\n",
              "\t<tr><td>Norte       </td><td>10207</td></tr>\n",
              "\t<tr><td>Sudeste     </td><td>31050</td></tr>\n",
              "\t<tr><td>Sul         </td><td> 2169</td></tr>\n",
              "</tbody>\n",
              "</table>\n"
            ]
          },
          "metadata": {
            "tags": []
          }
        }
      ]
    },
    {
      "cell_type": "code",
      "metadata": {
        "id": "BSwhgNHg8UPY",
        "colab_type": "code",
        "colab": {
          "base_uri": "https://localhost:8080/",
          "height": 156
        },
        "outputId": "d432b524-1178-4c3d-cf8e-8de09fd07ae7"
      },
      "source": [
        "ggplot(mortesPorRegiao, aes(x = regiao, y = total ))+ \n",
        "  geom_bar(stat = \"identity\", aes(fill = regiao))+\n",
        "  scale_fill_manual(values=c(\"darkgoldenrod2\", \"cornsilk3\", \"cyan3\",\"coral2\",\"brown4\"))+\n",
        "  labs(\n",
        "    title = \"COVID-19\",\n",
        "    subtitle = \"(Mortes por regiao)\",\n",
        "    x = \"Regioes\",\n",
        "    y = \"N° de mortes\",\n",
        "    face = \"bold\"\n",
        "  )+\n",
        "  geom_text(aes(label = total, vjust = -0.4) )+\n",
        "  theme(\n",
        "    plot.title = element_text(hjust = 0.5, face = \"bold\"),\n",
        "    plot.subtitle = element_text(hjust = 0.5),\n",
        "    legend.position = \"none\"\n",
        "  )"
      ],
      "execution_count": 23,
      "outputs": [
        {
          "output_type": "error",
          "ename": "ERROR",
          "evalue": "ignored",
          "traceback": [
            "Error in ggplot(mortesPorRegiao, aes(x = regiao, y = total)): object 'mortesPorRegiao' not found\nTraceback:\n",
            "1. ggplot(mortesPorRegiao, aes(x = regiao, y = total))"
          ]
        }
      ]
    },
    {
      "cell_type": "markdown",
      "metadata": {
        "id": "aUau5LSBJHhe",
        "colab_type": "text"
      },
      "source": [
        "# Referências\n",
        "1. [Painel Corona Virus Brasil](https://covid.saude.gov.br/)\n",
        "2. [Coronavirus (COVID-19) - Brazil Dataset : Brazil Cities Coordinates](https://www.kaggle.com/unanimad/corona-virus-brazil?select=brazil_cities_coordinates.csv)\n",
        "3. [Analyzing and Predicting COVID-19, Updated 05-20](https://www.kaggle.com/pedrohenriquecardoso/analyzing-and-predicting-covid-19-updated-05-20)\n"
      ]
    }
  ]
}